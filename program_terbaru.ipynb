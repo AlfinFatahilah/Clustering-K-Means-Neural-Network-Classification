{
 "cells": [
  {
   "cell_type": "markdown",
   "id": "649f0f11",
   "metadata": {},
   "source": [
    "#### Import Library"
   ]
  },
  {
   "cell_type": "code",
   "execution_count": 40,
   "id": "8d4d1333",
   "metadata": {},
   "outputs": [],
   "source": [
    "import os, glob\n",
    "os.makedirs(\"artifacts\", exist_ok=True)\n",
    "\n",
    "import pandas as pd\n",
    "import numpy as np\n",
    "\n",
    "from sklearn.preprocessing import StandardScaler, OneHotEncoder, FunctionTransformer\n",
    "from sklearn.compose import ColumnTransformer\n",
    "from sklearn.cluster import KMeans, MiniBatchKMeans\n",
    "from sklearn.model_selection import train_test_split, StratifiedKFold, cross_validate\n",
    "from sklearn.metrics import silhouette_score, classification_report\n",
    "from sklearn.neighbors import BallTree\n",
    "from sklearn.pipeline import Pipeline\n",
    "from sklearn.metrics import accuracy_score, f1_score, classification_report, confusion_matrix\n",
    "from joblib import dump, load\n",
    "\n",
    "# Klasik ML\n",
    "from sklearn.naive_bayes import GaussianNB\n",
    "from sklearn.ensemble import RandomForestClassifier\n",
    "from sklearn.neighbors import KNeighborsClassifier\n",
    "\n",
    "#  Neural Network\n",
    "import tensorflow as tf\n",
    "from tensorflow import keras\n",
    "from tensorflow.keras import layers\n",
    "\n",
    "import matplotlib.pyplot as plt"
   ]
  },
  {
   "cell_type": "markdown",
   "id": "12ba2f30",
   "metadata": {},
   "source": [
    "#### Load Data"
   ]
  },
  {
   "cell_type": "code",
   "execution_count": 2,
   "id": "335c55b4",
   "metadata": {},
   "outputs": [
    {
     "data": {
      "text/html": [
       "<div>\n",
       "<style scoped>\n",
       "    .dataframe tbody tr th:only-of-type {\n",
       "        vertical-align: middle;\n",
       "    }\n",
       "\n",
       "    .dataframe tbody tr th {\n",
       "        vertical-align: top;\n",
       "    }\n",
       "\n",
       "    .dataframe thead th {\n",
       "        text-align: right;\n",
       "    }\n",
       "</style>\n",
       "<table border=\"1\" class=\"dataframe\">\n",
       "  <thead>\n",
       "    <tr style=\"text-align: right;\">\n",
       "      <th></th>\n",
       "      <th>long</th>\n",
       "      <th>lat</th>\n",
       "      <th>id_restaurant</th>\n",
       "      <th>id_reting</th>\n",
       "      <th>id_makanan</th>\n",
       "      <th>id_provinsi</th>\n",
       "      <th>id_kabupaten</th>\n",
       "      <th>nama_tempat</th>\n",
       "      <th>alamat</th>\n",
       "    </tr>\n",
       "  </thead>\n",
       "  <tbody>\n",
       "    <tr>\n",
       "      <th>0</th>\n",
       "      <td>106.149564</td>\n",
       "      <td>-6.143376</td>\n",
       "      <td>1</td>\n",
       "      <td>1</td>\n",
       "      <td>1</td>\n",
       "      <td>36</td>\n",
       "      <td>3673</td>\n",
       "      <td>Sate Bandeng Ibu Amenah Serang</td>\n",
       "      <td>Jl. Sayabulu km 1, Lingk No.11, RT.2/RW.1, Dal...</td>\n",
       "    </tr>\n",
       "    <tr>\n",
       "      <th>1</th>\n",
       "      <td>106.150161</td>\n",
       "      <td>-6.120695</td>\n",
       "      <td>2</td>\n",
       "      <td>2</td>\n",
       "      <td>1</td>\n",
       "      <td>36</td>\n",
       "      <td>3673</td>\n",
       "      <td>Sate Bandeng - Bekakak Ayam Hj. Mariyam</td>\n",
       "      <td>Tengah, Jl. Ki Uju No.63, RT.003/RW.002, Tenga...</td>\n",
       "    </tr>\n",
       "    <tr>\n",
       "      <th>2</th>\n",
       "      <td>106.157729</td>\n",
       "      <td>-6.106640</td>\n",
       "      <td>3</td>\n",
       "      <td>3</td>\n",
       "      <td>1</td>\n",
       "      <td>36</td>\n",
       "      <td>3673</td>\n",
       "      <td>Sate Bandeng Ibu Aliyah</td>\n",
       "      <td>Jl. Lopang Gede III, Lopang, Kec. Serang, Kota...</td>\n",
       "    </tr>\n",
       "    <tr>\n",
       "      <th>3</th>\n",
       "      <td>106.152353</td>\n",
       "      <td>-6.112720</td>\n",
       "      <td>4</td>\n",
       "      <td>4</td>\n",
       "      <td>2</td>\n",
       "      <td>36</td>\n",
       "      <td>3673</td>\n",
       "      <td>Rabeg Khas Serang H. Naswi (Magersari)</td>\n",
       "      <td>Jl. Mayor Safei No.30, Kotabaru, Kec. Serang, ...</td>\n",
       "    </tr>\n",
       "    <tr>\n",
       "      <th>4</th>\n",
       "      <td>106.170051</td>\n",
       "      <td>-6.105310</td>\n",
       "      <td>5</td>\n",
       "      <td>5</td>\n",
       "      <td>2</td>\n",
       "      <td>36</td>\n",
       "      <td>3673</td>\n",
       "      <td>Warung Dahar Rabeg Khas Wong Banten</td>\n",
       "      <td>Jalan Ayip Usman, Link. Cikepuh, Unyur, Kec. S...</td>\n",
       "    </tr>\n",
       "  </tbody>\n",
       "</table>\n",
       "</div>"
      ],
      "text/plain": [
       "         long       lat  id_restaurant  id_reting  id_makanan  id_provinsi  \\\n",
       "0  106.149564 -6.143376              1          1           1           36   \n",
       "1  106.150161 -6.120695              2          2           1           36   \n",
       "2  106.157729 -6.106640              3          3           1           36   \n",
       "3  106.152353 -6.112720              4          4           2           36   \n",
       "4  106.170051 -6.105310              5          5           2           36   \n",
       "\n",
       "   id_kabupaten                              nama_tempat  \\\n",
       "0          3673           Sate Bandeng Ibu Amenah Serang   \n",
       "1          3673  Sate Bandeng - Bekakak Ayam Hj. Mariyam   \n",
       "2          3673                  Sate Bandeng Ibu Aliyah   \n",
       "3          3673   Rabeg Khas Serang H. Naswi (Magersari)   \n",
       "4          3673      Warung Dahar Rabeg Khas Wong Banten   \n",
       "\n",
       "                                              alamat  \n",
       "0  Jl. Sayabulu km 1, Lingk No.11, RT.2/RW.1, Dal...  \n",
       "1  Tengah, Jl. Ki Uju No.63, RT.003/RW.002, Tenga...  \n",
       "2  Jl. Lopang Gede III, Lopang, Kec. Serang, Kota...  \n",
       "3  Jl. Mayor Safei No.30, Kotabaru, Kec. Serang, ...  \n",
       "4  Jalan Ayip Usman, Link. Cikepuh, Unyur, Kec. S...  "
      ]
     },
     "execution_count": 2,
     "metadata": {},
     "output_type": "execute_result"
    }
   ],
   "source": [
    "df = pd.read_csv(\"data.csv\")\n",
    "df.head()"
   ]
  },
  {
   "cell_type": "markdown",
   "id": "dad53882",
   "metadata": {},
   "source": [
    "#### Preprocessing"
   ]
  },
  {
   "cell_type": "code",
   "execution_count": 3,
   "id": "b2ffb37f",
   "metadata": {},
   "outputs": [],
   "source": [
    "# Drop baris dengan koordinat kosong/invalid\n",
    "df = df.dropna(subset=['long','lat'])\n",
    "# Filter koordinat yang sesuai standar\n",
    "df = df[(df['long']>=-180)&(df['long']<=180)&(df['lat']>=-90)&(df['lat']<=90)]"
   ]
  },
  {
   "cell_type": "markdown",
   "id": "4575f20c",
   "metadata": {},
   "source": [
    "#### Scaling Long dan Lat"
   ]
  },
  {
   "cell_type": "code",
   "execution_count": null,
   "id": "f48ac79c",
   "metadata": {},
   "outputs": [],
   "source": [
    "# Standarisasi lon/lat untuk KMeans pakai StandarScaler\n",
    "scaler_geo = StandardScaler()\n",
    "X_geo = scaler_geo.fit_transform(df[['long','lat']])"
   ]
  },
  {
   "cell_type": "markdown",
   "id": "8344fba3",
   "metadata": {},
   "source": [
    "#### Pencarian K Terbaik untuk K-Means"
   ]
  },
  {
   "cell_type": "code",
   "execution_count": 5,
   "id": "e1f1a672",
   "metadata": {},
   "outputs": [
    {
     "name": "stderr",
     "output_type": "stream",
     "text": [
      "c:\\Users\\lenovo\\anaconda3\\Lib\\site-packages\\sklearn\\cluster\\_kmeans.py:1952: UserWarning: MiniBatchKMeans is known to have a memory leak on Windows with MKL, when there are less chunks than available threads. You can prevent it by setting batch_size >= 4096 or by setting the environment variable OMP_NUM_THREADS=1\n",
      "  warnings.warn(\n",
      "c:\\Users\\lenovo\\anaconda3\\Lib\\site-packages\\sklearn\\cluster\\_kmeans.py:1952: UserWarning: MiniBatchKMeans is known to have a memory leak on Windows with MKL, when there are less chunks than available threads. You can prevent it by setting batch_size >= 4096 or by setting the environment variable OMP_NUM_THREADS=1\n",
      "  warnings.warn(\n",
      "c:\\Users\\lenovo\\anaconda3\\Lib\\site-packages\\sklearn\\cluster\\_kmeans.py:1952: UserWarning: MiniBatchKMeans is known to have a memory leak on Windows with MKL, when there are less chunks than available threads. You can prevent it by setting batch_size >= 4096 or by setting the environment variable OMP_NUM_THREADS=1\n",
      "  warnings.warn(\n",
      "c:\\Users\\lenovo\\anaconda3\\Lib\\site-packages\\sklearn\\cluster\\_kmeans.py:1952: UserWarning: MiniBatchKMeans is known to have a memory leak on Windows with MKL, when there are less chunks than available threads. You can prevent it by setting batch_size >= 4096 or by setting the environment variable OMP_NUM_THREADS=1\n",
      "  warnings.warn(\n",
      "c:\\Users\\lenovo\\anaconda3\\Lib\\site-packages\\sklearn\\cluster\\_kmeans.py:1952: UserWarning: MiniBatchKMeans is known to have a memory leak on Windows with MKL, when there are less chunks than available threads. You can prevent it by setting batch_size >= 4096 or by setting the environment variable OMP_NUM_THREADS=1\n",
      "  warnings.warn(\n",
      "c:\\Users\\lenovo\\anaconda3\\Lib\\site-packages\\sklearn\\cluster\\_kmeans.py:1952: UserWarning: MiniBatchKMeans is known to have a memory leak on Windows with MKL, when there are less chunks than available threads. You can prevent it by setting batch_size >= 4096 or by setting the environment variable OMP_NUM_THREADS=1\n",
      "  warnings.warn(\n",
      "c:\\Users\\lenovo\\anaconda3\\Lib\\site-packages\\sklearn\\cluster\\_kmeans.py:1952: UserWarning: MiniBatchKMeans is known to have a memory leak on Windows with MKL, when there are less chunks than available threads. You can prevent it by setting batch_size >= 4096 or by setting the environment variable OMP_NUM_THREADS=1\n",
      "  warnings.warn(\n",
      "c:\\Users\\lenovo\\anaconda3\\Lib\\site-packages\\sklearn\\cluster\\_kmeans.py:1952: UserWarning: MiniBatchKMeans is known to have a memory leak on Windows with MKL, when there are less chunks than available threads. You can prevent it by setting batch_size >= 4096 or by setting the environment variable OMP_NUM_THREADS=1\n",
      "  warnings.warn(\n",
      "c:\\Users\\lenovo\\anaconda3\\Lib\\site-packages\\sklearn\\cluster\\_kmeans.py:1952: UserWarning: MiniBatchKMeans is known to have a memory leak on Windows with MKL, when there are less chunks than available threads. You can prevent it by setting batch_size >= 4096 or by setting the environment variable OMP_NUM_THREADS=1\n",
      "  warnings.warn(\n",
      "c:\\Users\\lenovo\\anaconda3\\Lib\\site-packages\\sklearn\\cluster\\_kmeans.py:1952: UserWarning: MiniBatchKMeans is known to have a memory leak on Windows with MKL, when there are less chunks than available threads. You can prevent it by setting batch_size >= 4096 or by setting the environment variable OMP_NUM_THREADS=1\n",
      "  warnings.warn(\n",
      "c:\\Users\\lenovo\\anaconda3\\Lib\\site-packages\\sklearn\\cluster\\_kmeans.py:1952: UserWarning: MiniBatchKMeans is known to have a memory leak on Windows with MKL, when there are less chunks than available threads. You can prevent it by setting batch_size >= 4096 or by setting the environment variable OMP_NUM_THREADS=1\n",
      "  warnings.warn(\n",
      "c:\\Users\\lenovo\\anaconda3\\Lib\\site-packages\\sklearn\\cluster\\_kmeans.py:1952: UserWarning: MiniBatchKMeans is known to have a memory leak on Windows with MKL, when there are less chunks than available threads. You can prevent it by setting batch_size >= 4096 or by setting the environment variable OMP_NUM_THREADS=1\n",
      "  warnings.warn(\n"
     ]
    },
    {
     "name": "stdout",
     "output_type": "stream",
     "text": [
      "Best K by silhouette: 6\n"
     ]
    }
   ],
   "source": [
    "# Coba beberapa K, pilih lewat silhouette\n",
    "Ks = range(3, 15)  # ubah sesuai skala data\n",
    "scores = []\n",
    "for k in Ks:\n",
    "    kmeans_tmp = MiniBatchKMeans(n_clusters=k, random_state=42, batch_size=2048, n_init=10)\n",
    "    labels_tmp = kmeans_tmp.fit_predict(X_geo)\n",
    "    score = silhouette_score(X_geo, labels_tmp)\n",
    "    scores.append(score)\n",
    "\n",
    "best_k = Ks[int(np.argmax(scores))]\n",
    "print(\"Best K by silhouette:\", best_k)"
   ]
  },
  {
   "cell_type": "markdown",
   "id": "80d57ca6",
   "metadata": {},
   "source": [
    "### Model Training"
   ]
  },
  {
   "cell_type": "markdown",
   "id": "afd66cf1",
   "metadata": {},
   "source": [
    "#### Pembangunan Model K-Means Clustering"
   ]
  },
  {
   "cell_type": "code",
   "execution_count": 6,
   "id": "ea306ef8",
   "metadata": {},
   "outputs": [
    {
     "name": "stderr",
     "output_type": "stream",
     "text": [
      "c:\\Users\\lenovo\\anaconda3\\Lib\\site-packages\\sklearn\\cluster\\_kmeans.py:1952: UserWarning: MiniBatchKMeans is known to have a memory leak on Windows with MKL, when there are less chunks than available threads. You can prevent it by setting batch_size >= 4096 or by setting the environment variable OMP_NUM_THREADS=1\n",
      "  warnings.warn(\n"
     ]
    }
   ],
   "source": [
    "kmeans = MiniBatchKMeans(n_clusters=best_k, random_state=42, batch_size=2048, n_init=20)\n",
    "df['cluster'] = kmeans.fit_predict(X_geo)"
   ]
  },
  {
   "cell_type": "markdown",
   "id": "b63cfca0",
   "metadata": {},
   "source": [
    "##### Ciri-ciri profil dari masing-masing cluster yang dihasilkan"
   ]
  },
  {
   "cell_type": "code",
   "execution_count": 7,
   "id": "50182746",
   "metadata": {},
   "outputs": [
    {
     "data": {
      "text/html": [
       "<div>\n",
       "<style scoped>\n",
       "    .dataframe tbody tr th:only-of-type {\n",
       "        vertical-align: middle;\n",
       "    }\n",
       "\n",
       "    .dataframe tbody tr th {\n",
       "        vertical-align: top;\n",
       "    }\n",
       "\n",
       "    .dataframe thead th {\n",
       "        text-align: right;\n",
       "    }\n",
       "</style>\n",
       "<table border=\"1\" class=\"dataframe\">\n",
       "  <thead>\n",
       "    <tr style=\"text-align: right;\">\n",
       "      <th></th>\n",
       "      <th>cluster</th>\n",
       "      <th>n_points</th>\n",
       "      <th>centroid_lon</th>\n",
       "      <th>centroid_lat</th>\n",
       "      <th>top_province_id</th>\n",
       "      <th>top_district_id</th>\n",
       "      <th>top_food_id</th>\n",
       "    </tr>\n",
       "  </thead>\n",
       "  <tbody>\n",
       "    <tr>\n",
       "      <th>2</th>\n",
       "      <td>2</td>\n",
       "      <td>46</td>\n",
       "      <td>110.276934</td>\n",
       "      <td>-7.746102</td>\n",
       "      <td>34, 33, 32</td>\n",
       "      <td>3471, 3402, 3372, 3306, 3310</td>\n",
       "      <td>20, 29, 28, 27, 26</td>\n",
       "    </tr>\n",
       "    <tr>\n",
       "      <th>1</th>\n",
       "      <td>1</td>\n",
       "      <td>41</td>\n",
       "      <td>106.855193</td>\n",
       "      <td>-6.247222</td>\n",
       "      <td>31, 32</td>\n",
       "      <td>3171, 3173, 3172, 3174, 3276</td>\n",
       "      <td>8, 7, 12, 9, 11</td>\n",
       "    </tr>\n",
       "    <tr>\n",
       "      <th>5</th>\n",
       "      <td>5</td>\n",
       "      <td>39</td>\n",
       "      <td>106.143011</td>\n",
       "      <td>-6.098890</td>\n",
       "      <td>36</td>\n",
       "      <td>3673, 3672, 3604, 3601</td>\n",
       "      <td>2, 1, 3, 4, 5</td>\n",
       "    </tr>\n",
       "    <tr>\n",
       "      <th>0</th>\n",
       "      <td>0</td>\n",
       "      <td>33</td>\n",
       "      <td>112.532833</td>\n",
       "      <td>-7.523009</td>\n",
       "      <td>35</td>\n",
       "      <td>3578, 3515, 3573, 3524, 3506</td>\n",
       "      <td>34, 38, 35, 36, 37</td>\n",
       "    </tr>\n",
       "    <tr>\n",
       "      <th>3</th>\n",
       "      <td>3</td>\n",
       "      <td>29</td>\n",
       "      <td>107.699701</td>\n",
       "      <td>-6.922746</td>\n",
       "      <td>32, 33</td>\n",
       "      <td>3273, 3217, 3279, 3203, 3206</td>\n",
       "      <td>12, 13, 14, 15, 17</td>\n",
       "    </tr>\n",
       "    <tr>\n",
       "      <th>4</th>\n",
       "      <td>4</td>\n",
       "      <td>20</td>\n",
       "      <td>110.739821</td>\n",
       "      <td>-6.970302</td>\n",
       "      <td>33, 35</td>\n",
       "      <td>3374, 3318, 3523, 3524, 3373</td>\n",
       "      <td>24, 25, 21, 20, 41</td>\n",
       "    </tr>\n",
       "  </tbody>\n",
       "</table>\n",
       "</div>"
      ],
      "text/plain": [
       "   cluster  n_points  centroid_lon  centroid_lat top_province_id  \\\n",
       "2        2        46    110.276934     -7.746102      34, 33, 32   \n",
       "1        1        41    106.855193     -6.247222          31, 32   \n",
       "5        5        39    106.143011     -6.098890              36   \n",
       "0        0        33    112.532833     -7.523009              35   \n",
       "3        3        29    107.699701     -6.922746          32, 33   \n",
       "4        4        20    110.739821     -6.970302          33, 35   \n",
       "\n",
       "                top_district_id         top_food_id  \n",
       "2  3471, 3402, 3372, 3306, 3310  20, 29, 28, 27, 26  \n",
       "1  3171, 3173, 3172, 3174, 3276     8, 7, 12, 9, 11  \n",
       "5        3673, 3672, 3604, 3601       2, 1, 3, 4, 5  \n",
       "0  3578, 3515, 3573, 3524, 3506  34, 38, 35, 36, 37  \n",
       "3  3273, 3217, 3279, 3203, 3206  12, 13, 14, 15, 17  \n",
       "4  3374, 3318, 3523, 3524, 3373  24, 25, 21, 20, 41  "
      ]
     },
     "execution_count": 7,
     "metadata": {},
     "output_type": "execute_result"
    }
   ],
   "source": [
    "def top_counts(s, topn=5):\n",
    "    return s.value_counts().head(topn)\n",
    "\n",
    "profile_rows = []\n",
    "for c in sorted(df['cluster'].unique()):\n",
    "    sub = df[df['cluster']==c]\n",
    "    centroid_std = kmeans.cluster_centers_[c]\n",
    "    # balik ke koordinat asli\n",
    "    centroid = scaler_geo.inverse_transform(centroid_std.reshape(1,-1))[0]\n",
    "    row = {\n",
    "        \"cluster\": c,\n",
    "        \"n_points\": len(sub),\n",
    "        \"centroid_lon\": centroid[0],\n",
    "        \"centroid_lat\": centroid[1],\n",
    "        \"top_province_id\": \", \".join(map(str, top_counts(sub['id_provinsi']).index.tolist())),\n",
    "        \"top_district_id\": \", \".join(map(str, top_counts(sub['id_kabupaten']).index.tolist())),\n",
    "        \"top_food_id\": \", \".join(map(str, top_counts(sub['id_makanan']).index.tolist()))\n",
    "    }\n",
    "    profile_rows.append(row)\n",
    "\n",
    "cluster_profile = pd.DataFrame(profile_rows).sort_values('n_points', ascending=False)\n",
    "cluster_profile"
   ]
  },
  {
   "cell_type": "markdown",
   "id": "9c996129",
   "metadata": {},
   "source": [
    "#### Pembangunan Model Klasifikasi RF NB KNN"
   ]
  },
  {
   "cell_type": "code",
   "execution_count": null,
   "id": "d05a688e",
   "metadata": {},
   "outputs": [
    {
     "data": {
      "text/plain": [
       "long             0\n",
       "lat              0\n",
       "id_restaurant    0\n",
       "id_reting        0\n",
       "id_makanan       0\n",
       "id_provinsi      0\n",
       "id_kabupaten     0\n",
       "nama_tempat      0\n",
       "alamat           0\n",
       "cluster          0\n",
       "dtype: int64"
      ]
     },
     "execution_count": 10,
     "metadata": {},
     "output_type": "execute_result"
    }
   ],
   "source": [
    "# Pastikan kolom wajib ada\n",
    "required = [\"long\",\"lat\",\"id_provinsi\",\"id_kabupaten\",\"id_makanan\",\"id_reting\"]\n",
    "for c in required:\n",
    "    if c not in df.columns:\n",
    "        raise ValueError(f\"Kolom '{c}' tidak ditemukan. Tolong rename kolom agar sesuai.\")\n",
    "\n",
    "# Cluster harus ada (hasil KMeans). Jika belum, siapkan dulu label cluster di df['cluster'].\n",
    "if \"cluster\" not in df.columns:\n",
    "    raise ValueError(\"Kolom 'cluster' belum ada. Jalankan KMeans dulu dan simpan labelnya ke df['cluster'].\")\n",
    "\n",
    "klasik_ml_df = df.copy()\n",
    "\n",
    "# Ngecek aja mastiin tidak ada nilai kosong\n",
    "klasik_ml_df.isnull().sum()"
   ]
  },
  {
   "cell_type": "markdown",
   "id": "e1f64e1f",
   "metadata": {},
   "source": [
    "##### Penentuan Fitur dan Target"
   ]
  },
  {
   "cell_type": "code",
   "execution_count": 11,
   "id": "5833b371",
   "metadata": {},
   "outputs": [],
   "source": [
    "SEED = 42\n",
    "\n",
    "num_cols = [\"long\", \"lat\"]\n",
    "cat_cols = [\"id_provinsi\", \"id_kabupaten\", \"id_makanan\", \"id_reting\"]\n",
    "\n",
    "X = klasik_ml_df[num_cols + cat_cols].copy()\n",
    "\n",
    "for c in cat_cols:\n",
    "    X[c] = X[c].astype(str).fillna(\"UNK\")\n",
    "\n",
    "y = klasik_ml_df[\"cluster\"].astype(int).values\n",
    "\n",
    "X_train, X_test, y_train, y_test = train_test_split(\n",
    "    X, y, test_size=0.2, random_state=SEED, stratify=y\n",
    ")"
   ]
  },
  {
   "cell_type": "markdown",
   "id": "b0a06fc5",
   "metadata": {},
   "source": [
    "##### Melakukan One Hot Encoding (ohe) dan Scaling StandarScaler dengan Pipeline ColumnTransformer"
   ]
  },
  {
   "cell_type": "code",
   "execution_count": 12,
   "id": "e265d102",
   "metadata": {},
   "outputs": [],
   "source": [
    "ohe = OneHotEncoder(handle_unknown=\"ignore\", sparse_output=False)\n",
    "pre_dense = ColumnTransformer(\n",
    "    transformers=[\n",
    "        (\"num\", StandardScaler(with_mean=True), num_cols),\n",
    "        (\"cat\", ohe, cat_cols),\n",
    "    ],\n",
    "    remainder=\"drop\",\n",
    "    sparse_threshold=0.0,   # paksa dense\n",
    ")"
   ]
  },
  {
   "cell_type": "markdown",
   "id": "6a66b41a",
   "metadata": {},
   "source": [
    "##### Pembangunan Model"
   ]
  },
  {
   "cell_type": "code",
   "execution_count": 13,
   "id": "586d251c",
   "metadata": {},
   "outputs": [],
   "source": [
    "models = {\n",
    "    \"random_forest\": Pipeline([\n",
    "        (\"pre\", pre_dense),\n",
    "        (\"clf\", RandomForestClassifier(\n",
    "            n_estimators=400, n_jobs=-1, random_state=SEED,\n",
    "            class_weight=\"balanced_subsample\"\n",
    "        ))\n",
    "    ]),\n",
    "    \"knn\": Pipeline([\n",
    "        (\"pre\", pre_dense),\n",
    "        (\"clf\", KNeighborsClassifier(n_neighbors=15))\n",
    "    ]),\n",
    "    \"gaussian_nb\": Pipeline([\n",
    "        (\"pre\", pre_dense),\n",
    "        (\"clf\", GaussianNB())\n",
    "    ]),\n",
    "}"
   ]
  },
  {
   "cell_type": "markdown",
   "id": "f6f1641e",
   "metadata": {},
   "source": [
    "#### Evaluasi dengan Cross Validation dan Classification Report"
   ]
  },
  {
   "cell_type": "code",
   "execution_count": 14,
   "id": "dc476bb5",
   "metadata": {},
   "outputs": [
    {
     "name": "stdout",
     "output_type": "stream",
     "text": [
      "\n",
      "=== random_forest ===\n",
      "CV Acc: 0.9638 ± 0.0122 | CV F1-macro: 0.9543 ± 0.0106\n",
      "TEST Acc: 1.0000 | TEST F1-macro: 1.0000\n",
      "              precision    recall  f1-score   support\n",
      "\n",
      "           0       1.00      1.00      1.00         7\n",
      "           1       1.00      1.00      1.00         8\n",
      "           2       1.00      1.00      1.00         9\n",
      "           3       1.00      1.00      1.00         6\n",
      "           4       1.00      1.00      1.00         4\n",
      "           5       1.00      1.00      1.00         8\n",
      "\n",
      "    accuracy                           1.00        42\n",
      "   macro avg       1.00      1.00      1.00        42\n",
      "weighted avg       1.00      1.00      1.00        42\n",
      "\n",
      "Saved: artifacts/model_random_forest.joblib\n",
      "\n",
      "=== knn ===\n",
      "CV Acc: 0.9337 ± 0.0228 | CV F1-macro: 0.9208 ± 0.0240\n",
      "TEST Acc: 0.9762 | TEST F1-macro: 0.9761\n",
      "              precision    recall  f1-score   support\n",
      "\n",
      "           0       1.00      1.00      1.00         7\n",
      "           1       1.00      0.88      0.93         8\n",
      "           2       1.00      1.00      1.00         9\n",
      "           3       0.86      1.00      0.92         6\n",
      "           4       1.00      1.00      1.00         4\n",
      "           5       1.00      1.00      1.00         8\n",
      "\n",
      "    accuracy                           0.98        42\n",
      "   macro avg       0.98      0.98      0.98        42\n",
      "weighted avg       0.98      0.98      0.98        42\n",
      "\n",
      "Saved: artifacts/model_knn.joblib\n",
      "\n",
      "=== gaussian_nb ===\n",
      "CV Acc: 0.9096 ± 0.0575 | CV F1-macro: 0.8999 ± 0.0589\n",
      "TEST Acc: 0.9286 | TEST F1-macro: 0.9219\n",
      "              precision    recall  f1-score   support\n",
      "\n",
      "           0       1.00      1.00      1.00         7\n",
      "           1       1.00      0.88      0.93         8\n",
      "           2       1.00      0.78      0.88         9\n",
      "           3       0.86      1.00      0.92         6\n",
      "           4       0.67      1.00      0.80         4\n",
      "           5       1.00      1.00      1.00         8\n",
      "\n",
      "    accuracy                           0.93        42\n",
      "   macro avg       0.92      0.94      0.92        42\n",
      "weighted avg       0.95      0.93      0.93        42\n",
      "\n",
      "Saved: artifacts/model_gaussian_nb.joblib\n"
     ]
    }
   ],
   "source": [
    "cv = StratifiedKFold(n_splits=5, shuffle=True, random_state=SEED)\n",
    "rows = []\n",
    "best_name, best_f1 = None, -1.0\n",
    "\n",
    "for name, pipe in models.items():\n",
    "    print(f\"\\n=== {name} ===\")\n",
    "    cvres = cross_validate(pipe, X_train, y_train, cv=cv,\n",
    "                           scoring=[\"accuracy\",\"f1_macro\"],\n",
    "                           n_jobs=-1, return_train_score=False)\n",
    "    acc_mean, acc_std = cvres[\"test_accuracy\"].mean(), cvres[\"test_accuracy\"].std()\n",
    "    f1_mean,  f1_std  = cvres[\"test_f1_macro\"].mean(), cvres[\"test_f1_macro\"].std()\n",
    "    print(f\"CV Acc: {acc_mean:.4f} ± {acc_std:.4f} | CV F1-macro: {f1_mean:.4f} ± {f1_std:.4f}\")\n",
    "\n",
    "    pipe.fit(X_train, y_train)\n",
    "    y_pred = pipe.predict(X_test)\n",
    "    acc = accuracy_score(y_test, y_pred)\n",
    "    f1  = f1_score(y_test, y_pred, average=\"macro\")\n",
    "    print(f\"TEST Acc: {acc:.4f} | TEST F1-macro: {f1:.4f}\")\n",
    "    print(classification_report(y_test, y_pred, zero_division=0))\n",
    "\n",
    "    outpath = f\"artifacts/model_{name}.joblib\"\n",
    "    dump(pipe, outpath)\n",
    "    print(f\"Saved: {outpath}\")\n",
    "\n",
    "    rows.append({\n",
    "        \"model\": name,\n",
    "        \"cv_acc_mean\": acc_mean, \"cv_acc_std\": acc_std,\n",
    "        \"cv_f1_mean\": f1_mean, \"cv_f1_std\": f1_std,\n",
    "        \"test_acc\": acc, \"test_f1_macro\": f1\n",
    "    })\n",
    "    if f1 > best_f1:\n",
    "        best_f1, best_name = f1, name"
   ]
  },
  {
   "cell_type": "markdown",
   "id": "0203c437",
   "metadata": {},
   "source": [
    "##### Buat Summary Perbandingannya"
   ]
  },
  {
   "cell_type": "code",
   "execution_count": 15,
   "id": "c6b370fe",
   "metadata": {},
   "outputs": [
    {
     "name": "stdout",
     "output_type": "stream",
     "text": [
      "\n",
      "== Ringkasan → artifacts/classic_ml_results.csv ==\n"
     ]
    },
    {
     "data": {
      "text/html": [
       "<div>\n",
       "<style scoped>\n",
       "    .dataframe tbody tr th:only-of-type {\n",
       "        vertical-align: middle;\n",
       "    }\n",
       "\n",
       "    .dataframe tbody tr th {\n",
       "        vertical-align: top;\n",
       "    }\n",
       "\n",
       "    .dataframe thead th {\n",
       "        text-align: right;\n",
       "    }\n",
       "</style>\n",
       "<table border=\"1\" class=\"dataframe\">\n",
       "  <thead>\n",
       "    <tr style=\"text-align: right;\">\n",
       "      <th></th>\n",
       "      <th>model</th>\n",
       "      <th>cv_acc_mean</th>\n",
       "      <th>cv_acc_std</th>\n",
       "      <th>cv_f1_mean</th>\n",
       "      <th>cv_f1_std</th>\n",
       "      <th>test_acc</th>\n",
       "      <th>test_f1_macro</th>\n",
       "    </tr>\n",
       "  </thead>\n",
       "  <tbody>\n",
       "    <tr>\n",
       "      <th>0</th>\n",
       "      <td>random_forest</td>\n",
       "      <td>0.963815</td>\n",
       "      <td>0.012215</td>\n",
       "      <td>0.954256</td>\n",
       "      <td>0.010608</td>\n",
       "      <td>1.000000</td>\n",
       "      <td>1.000000</td>\n",
       "    </tr>\n",
       "    <tr>\n",
       "      <th>1</th>\n",
       "      <td>knn</td>\n",
       "      <td>0.933690</td>\n",
       "      <td>0.022783</td>\n",
       "      <td>0.920792</td>\n",
       "      <td>0.024044</td>\n",
       "      <td>0.976190</td>\n",
       "      <td>0.976068</td>\n",
       "    </tr>\n",
       "    <tr>\n",
       "      <th>2</th>\n",
       "      <td>gaussian_nb</td>\n",
       "      <td>0.909626</td>\n",
       "      <td>0.057506</td>\n",
       "      <td>0.899942</td>\n",
       "      <td>0.058916</td>\n",
       "      <td>0.928571</td>\n",
       "      <td>0.921902</td>\n",
       "    </tr>\n",
       "  </tbody>\n",
       "</table>\n",
       "</div>"
      ],
      "text/plain": [
       "           model  cv_acc_mean  cv_acc_std  cv_f1_mean  cv_f1_std  test_acc  \\\n",
       "0  random_forest     0.963815    0.012215    0.954256   0.010608  1.000000   \n",
       "1            knn     0.933690    0.022783    0.920792   0.024044  0.976190   \n",
       "2    gaussian_nb     0.909626    0.057506    0.899942   0.058916  0.928571   \n",
       "\n",
       "   test_f1_macro  \n",
       "0       1.000000  \n",
       "1       0.976068  \n",
       "2       0.921902  "
      ]
     },
     "execution_count": 15,
     "metadata": {},
     "output_type": "execute_result"
    }
   ],
   "source": [
    "summary = pd.DataFrame(rows).sort_values(\"test_f1_macro\", ascending=False)\n",
    "summary.to_csv(\"artifacts/classic_ml_results.csv\", index=False)\n",
    "print(\"\\n== Ringkasan → artifacts/classic_ml_results.csv ==\")\n",
    "summary"
   ]
  },
  {
   "cell_type": "markdown",
   "id": "6a081fcb",
   "metadata": {},
   "source": [
    "##### Bikin Confusion Matrix dari Model Klasik ML yang terbaik"
   ]
  },
  {
   "cell_type": "code",
   "execution_count": 16,
   "id": "19185869",
   "metadata": {},
   "outputs": [
    {
     "name": "stdout",
     "output_type": "stream",
     "text": [
      "Saved confusion matrix: artifacts/confusion_best.png\n"
     ]
    },
    {
     "data": {
      "text/plain": [
       "<Figure size 600x500 with 0 Axes>"
      ]
     },
     "metadata": {},
     "output_type": "display_data"
    },
    {
     "data": {
      "image/png": "[encoded data removed]",
      "text/plain": [
       "<Figure size 640x480 with 2 Axes>"
      ]
     },
     "metadata": {},
     "output_type": "display_data"
    }
   ],
   "source": [
    "# Confusion matrix untuk model terbaik\n",
    "from sklearn.metrics import ConfusionMatrixDisplay\n",
    "plt.figure(figsize=(6,5))\n",
    "best_pipe = models[best_name].fit(X_train, y_train)\n",
    "y_pred_best = best_pipe.predict(X_test)\n",
    "cm = confusion_matrix(y_test, y_pred_best)\n",
    "ConfusionMatrixDisplay(cm).plot(values_format='d', cmap='Blues')\n",
    "plt.title(f\"Confusion Matrix - {best_name}\")\n",
    "plt.tight_layout(); plt.savefig(\"artifacts/confusion_best.png\", dpi=160)\n",
    "print(\"Saved confusion matrix: artifacts/confusion_best.png\")"
   ]
  },
  {
   "cell_type": "markdown",
   "id": "df4db0c7",
   "metadata": {},
   "source": [
    "#### Pembangunan Model Klasifikasi Neural Network"
   ]
  },
  {
   "cell_type": "markdown",
   "id": "355b4414",
   "metadata": {},
   "source": [
    "#### Penentuan Fitur dan Target"
   ]
  },
  {
   "cell_type": "code",
   "execution_count": 24,
   "id": "8dc18de6",
   "metadata": {},
   "outputs": [],
   "source": [
    "nn_klasifikasi_df = df.copy()\n",
    "\n",
    "target = nn_klasifikasi_df['cluster'].astype(int)\n",
    "\n",
    "feature_cols_num = ['long','lat']\n",
    "feature_cols_cat = ['id_provinsi','id_kabupaten','id_makanan','id_reting']  # sesuaikan yang relevan\n",
    "\n",
    "X_num = nn_klasifikasi_df[feature_cols_num]\n",
    "X_cat = nn_klasifikasi_df[feature_cols_cat].astype(str)  # pastikan string utk encoder"
   ]
  },
  {
   "cell_type": "markdown",
   "id": "060e9579",
   "metadata": {},
   "source": [
    "##### Pembuatan Column Transformer Pipeline"
   ]
  },
  {
   "cell_type": "code",
   "execution_count": 25,
   "id": "a9838cb2",
   "metadata": {},
   "outputs": [],
   "source": [
    "# ColumnTransformer: scale numerik + one-hot kategorikal\n",
    "preprocess = ColumnTransformer(\n",
    "    transformers=[\n",
    "        ('num', StandardScaler(), feature_cols_num),\n",
    "        ('cat', OneHotEncoder(handle_unknown='ignore', sparse_output=True), feature_cols_cat)\n",
    "    ]\n",
    ")\n",
    "\n",
    "X_all = preprocess.fit_transform(pd.concat([X_num, X_cat], axis=1))\n",
    "y_all = target.values"
   ]
  },
  {
   "cell_type": "markdown",
   "id": "6d34538f",
   "metadata": {},
   "source": [
    "##### Splitting Data"
   ]
  },
  {
   "cell_type": "code",
   "execution_count": 26,
   "id": "2b0f1a03",
   "metadata": {},
   "outputs": [],
   "source": [
    "X_train, X_test, y_train, y_test = train_test_split(X_all, y_all, test_size=0.2, random_state=42, stratify=y_all)\n",
    "\n",
    "# Karena X_all kemungkinan sparse, konversi ke dense hanya jika ukuran masih aman.\n",
    "# Kalau sangat besar, lebih baik pakai model non‑NN (mis. LightGBM). Untuk contoh, kita dense-kan:\n",
    "if hasattr(X_train, \"toarray\"):\n",
    "    X_train = X_train.toarray()\n",
    "    X_test  = X_test.toarray()\n",
    "\n",
    "num_classes = len(np.unique(y_all))"
   ]
  },
  {
   "cell_type": "code",
   "execution_count": 27,
   "id": "7a15a809",
   "metadata": {},
   "outputs": [
    {
     "data": {
      "text/plain": [
       "<Compressed Sparse Row sparse matrix of dtype 'float64'\n",
       "\twith 1248 stored elements and shape (208, 305)>"
      ]
     },
     "execution_count": 27,
     "metadata": {},
     "output_type": "execute_result"
    }
   ],
   "source": [
    "X_all"
   ]
  },
  {
   "cell_type": "code",
   "execution_count": 28,
   "id": "9203b310",
   "metadata": {},
   "outputs": [
    {
     "data": {
      "text/plain": [
       "array([5, 5, 5, 5, 5, 5, 5, 5, 5, 5, 5, 5, 5, 5, 5, 5, 1, 1, 1, 1, 1, 1,\n",
       "       1, 1, 1, 1, 1, 1, 1, 3, 3, 3, 3, 3, 3, 3, 3, 3, 3, 3, 3, 3, 1, 3,\n",
       "       3, 3, 3, 3, 2, 1, 2, 2, 4, 2, 2, 2, 4, 4, 4, 2, 2, 2, 2, 2, 2, 2,\n",
       "       4, 4, 4, 2, 2, 2, 2, 2, 2, 2, 2, 2, 2, 2, 2, 2, 2, 2, 2, 2, 2, 2,\n",
       "       2, 2, 2, 2, 2, 2, 2, 2, 2, 4, 0, 0, 0, 0, 0, 0, 0, 0, 0, 0, 0, 0,\n",
       "       0, 0, 0, 0, 0, 0, 0, 0, 0, 0, 0, 0, 0, 0, 0, 0, 0, 0, 0, 4, 0, 0,\n",
       "       4, 5, 5, 5, 5, 5, 5, 5, 5, 5, 5, 5, 5, 5, 5, 5, 5, 5, 5, 5, 5, 5,\n",
       "       5, 5, 1, 1, 1, 1, 1, 1, 1, 1, 1, 1, 1, 1, 1, 1, 1, 1, 1, 1, 1, 1,\n",
       "       1, 1, 4, 2, 3, 2, 2, 2, 4, 4, 2, 4, 4, 4, 4, 4, 4, 4, 3, 3, 1, 1,\n",
       "       3, 3, 1, 3, 3, 1, 3, 3, 3, 3])"
      ]
     },
     "execution_count": 28,
     "metadata": {},
     "output_type": "execute_result"
    }
   ],
   "source": [
    "y_all"
   ]
  },
  {
   "cell_type": "code",
   "execution_count": 29,
   "id": "998600e8",
   "metadata": {},
   "outputs": [
    {
     "data": {
      "text/plain": [
       "array([[-0.54383635,  0.02080427,  0.        , ...,  0.        ,\n",
       "         0.        ,  0.        ],\n",
       "       [-0.54510551,  0.01230293,  0.        , ...,  0.        ,\n",
       "         0.        ,  0.        ],\n",
       "       [ 0.63725365, -1.31892937,  0.        , ...,  0.        ,\n",
       "         0.        ,  0.        ],\n",
       "       ...,\n",
       "       [-0.55205264,  0.03166992,  0.        , ...,  0.        ,\n",
       "         0.        ,  0.        ],\n",
       "       [ 0.66155895, -0.09574825,  0.        , ...,  0.        ,\n",
       "         0.        ,  0.        ],\n",
       "       [ 0.66152421, -0.0987793 ,  0.        , ...,  0.        ,\n",
       "         0.        ,  0.        ]])"
      ]
     },
     "execution_count": 29,
     "metadata": {},
     "output_type": "execute_result"
    }
   ],
   "source": [
    "X_train"
   ]
  },
  {
   "cell_type": "code",
   "execution_count": 30,
   "id": "31e912e3",
   "metadata": {},
   "outputs": [
    {
     "data": {
      "text/plain": [
       "array([[ 1.62725235, -0.74333464,  0.        , ...,  0.        ,\n",
       "         0.        ,  0.        ],\n",
       "       [ 0.66378845, -0.10363678,  0.        , ...,  0.        ,\n",
       "         0.        ,  0.        ],\n",
       "       [-0.54012924, -0.0073772 ,  0.        , ...,  0.        ,\n",
       "         0.        ,  0.        ],\n",
       "       ...,\n",
       "       [ 0.82422008, -1.24102842,  0.        , ...,  0.        ,\n",
       "         0.        ,  0.        ],\n",
       "       [-0.52704949,  0.02129721,  0.        , ...,  0.        ,\n",
       "         0.        ,  0.        ],\n",
       "       [-1.15859058,  1.14856036,  0.        , ...,  0.        ,\n",
       "         0.        ,  0.        ]])"
      ]
     },
     "execution_count": 30,
     "metadata": {},
     "output_type": "execute_result"
    }
   ],
   "source": [
    "X_test"
   ]
  },
  {
   "cell_type": "code",
   "execution_count": 31,
   "id": "d79fc9de",
   "metadata": {},
   "outputs": [
    {
     "data": {
      "text/plain": [
       "array([3, 3, 2, 0, 1, 4, 4, 3, 3, 2, 1, 3, 1, 4, 4, 2, 3, 0, 2, 2, 5, 0,\n",
       "       2, 0, 5, 3, 3, 5, 5, 5, 1, 2, 5, 4, 1, 2, 3, 1, 0, 1, 4, 5, 3, 2,\n",
       "       0, 3, 0, 2, 1, 1, 2, 2, 4, 1, 1, 1, 5, 5, 1, 1, 2, 2, 1, 1, 0, 1,\n",
       "       2, 2, 0, 2, 3, 0, 5, 3, 0, 0, 2, 5, 4, 1, 2, 5, 1, 5, 2, 5, 0, 0,\n",
       "       4, 2, 5, 1, 2, 2, 5, 1, 5, 5, 0, 5, 2, 3, 0, 3, 0, 1, 1, 5, 0, 1,\n",
       "       0, 5, 5, 2, 3, 5, 0, 0, 3, 1, 2, 1, 0, 1, 2, 1, 2, 0, 5, 3, 2, 1,\n",
       "       4, 1, 2, 2, 0, 2, 2, 4, 3, 5, 3, 3, 2, 0, 1, 5, 4, 2, 1, 5, 4, 5,\n",
       "       4, 2, 1, 5, 0, 5, 2, 5, 3, 3, 4, 4])"
      ]
     },
     "execution_count": 31,
     "metadata": {},
     "output_type": "execute_result"
    }
   ],
   "source": [
    "y_train"
   ]
  },
  {
   "cell_type": "code",
   "execution_count": 32,
   "id": "e61f6870",
   "metadata": {},
   "outputs": [
    {
     "data": {
      "text/plain": [
       "array([0, 4, 3, 2, 1, 4, 0, 5, 5, 5, 4, 5, 0, 4, 1, 2, 3, 0, 1, 5, 2, 5,\n",
       "       3, 2, 3, 3, 0, 1, 2, 2, 1, 1, 2, 1, 0, 2, 5, 0, 1, 2, 3, 5])"
      ]
     },
     "execution_count": 32,
     "metadata": {},
     "output_type": "execute_result"
    }
   ],
   "source": [
    "y_test"
   ]
  },
  {
   "cell_type": "markdown",
   "id": "e91c14e9",
   "metadata": {},
   "source": [
    "#### Pembangunan Model NN"
   ]
  },
  {
   "cell_type": "code",
   "execution_count": 33,
   "id": "2d888133",
   "metadata": {},
   "outputs": [
    {
     "name": "stdout",
     "output_type": "stream",
     "text": [
      "Epoch 1/50\n",
      "\u001b[1m1/1\u001b[0m \u001b[32m━━━━━━━━━━━━━━━━━━━━\u001b[0m\u001b[37m\u001b[0m \u001b[1m1s\u001b[0m 1s/step - accuracy: 0.1136 - loss: 1.8097 - val_accuracy: 0.1176 - val_loss: 1.7880\n",
      "Epoch 2/50\n",
      "\u001b[1m1/1\u001b[0m \u001b[32m━━━━━━━━━━━━━━━━━━━━\u001b[0m\u001b[37m\u001b[0m \u001b[1m0s\u001b[0m 45ms/step - accuracy: 0.2500 - loss: 1.7421 - val_accuracy: 0.3235 - val_loss: 1.7426\n",
      "Epoch 3/50\n",
      "\u001b[1m1/1\u001b[0m \u001b[32m━━━━━━━━━━━━━━━━━━━━\u001b[0m\u001b[37m\u001b[0m \u001b[1m0s\u001b[0m 43ms/step - accuracy: 0.3561 - loss: 1.7019 - val_accuracy: 0.4412 - val_loss: 1.6988\n",
      "Epoch 4/50\n",
      "\u001b[1m1/1\u001b[0m \u001b[32m━━━━━━━━━━━━━━━━━━━━\u001b[0m\u001b[37m\u001b[0m \u001b[1m0s\u001b[0m 44ms/step - accuracy: 0.6212 - loss: 1.6211 - val_accuracy: 0.5588 - val_loss: 1.6555\n",
      "Epoch 5/50\n",
      "\u001b[1m1/1\u001b[0m \u001b[32m━━━━━━━━━━━━━━━━━━━━\u001b[0m\u001b[37m\u001b[0m \u001b[1m0s\u001b[0m 34ms/step - accuracy: 0.6515 - loss: 1.5910 - val_accuracy: 0.6176 - val_loss: 1.6126\n",
      "Epoch 6/50\n",
      "\u001b[1m1/1\u001b[0m \u001b[32m━━━━━━━━━━━━━━━━━━━━\u001b[0m\u001b[37m\u001b[0m \u001b[1m0s\u001b[0m 41ms/step - accuracy: 0.6894 - loss: 1.5016 - val_accuracy: 0.6176 - val_loss: 1.5688\n",
      "Epoch 7/50\n",
      "\u001b[1m1/1\u001b[0m \u001b[32m━━━━━━━━━━━━━━━━━━━━\u001b[0m\u001b[37m\u001b[0m \u001b[1m0s\u001b[0m 39ms/step - accuracy: 0.7424 - loss: 1.4445 - val_accuracy: 0.6176 - val_loss: 1.5251\n",
      "Epoch 8/50\n",
      "\u001b[1m1/1\u001b[0m \u001b[32m━━━━━━━━━━━━━━━━━━━━\u001b[0m\u001b[37m\u001b[0m \u001b[1m0s\u001b[0m 33ms/step - accuracy: 0.7652 - loss: 1.4036 - val_accuracy: 0.6176 - val_loss: 1.4810\n",
      "Epoch 9/50\n",
      "\u001b[1m1/1\u001b[0m \u001b[32m━━━━━━━━━━━━━━━━━━━━\u001b[0m\u001b[37m\u001b[0m \u001b[1m0s\u001b[0m 41ms/step - accuracy: 0.7652 - loss: 1.3281 - val_accuracy: 0.6176 - val_loss: 1.4358\n",
      "Epoch 10/50\n",
      "\u001b[1m1/1\u001b[0m \u001b[32m━━━━━━━━━━━━━━━━━━━━\u001b[0m\u001b[37m\u001b[0m \u001b[1m0s\u001b[0m 43ms/step - accuracy: 0.8030 - loss: 1.2548 - val_accuracy: 0.6176 - val_loss: 1.3891\n",
      "Epoch 11/50\n",
      "\u001b[1m1/1\u001b[0m \u001b[32m━━━━━━━━━━━━━━━━━━━━\u001b[0m\u001b[37m\u001b[0m \u001b[1m0s\u001b[0m 36ms/step - accuracy: 0.8030 - loss: 1.2143 - val_accuracy: 0.6176 - val_loss: 1.3419\n",
      "Epoch 12/50\n",
      "\u001b[1m1/1\u001b[0m \u001b[32m━━━━━━━━━━━━━━━━━━━━\u001b[0m\u001b[37m\u001b[0m \u001b[1m0s\u001b[0m 33ms/step - accuracy: 0.8030 - loss: 1.1576 - val_accuracy: 0.6176 - val_loss: 1.2936\n",
      "Epoch 13/50\n",
      "\u001b[1m1/1\u001b[0m \u001b[32m━━━━━━━━━━━━━━━━━━━━\u001b[0m\u001b[37m\u001b[0m \u001b[1m0s\u001b[0m 39ms/step - accuracy: 0.8712 - loss: 1.0727 - val_accuracy: 0.6176 - val_loss: 1.2448\n",
      "Epoch 14/50\n",
      "\u001b[1m1/1\u001b[0m \u001b[32m━━━━━━━━━━━━━━━━━━━━\u001b[0m\u001b[37m\u001b[0m \u001b[1m0s\u001b[0m 85ms/step - accuracy: 0.8485 - loss: 1.0117 - val_accuracy: 0.6176 - val_loss: 1.1955\n",
      "Epoch 15/50\n",
      "\u001b[1m1/1\u001b[0m \u001b[32m━━━━━━━━━━━━━━━━━━━━\u001b[0m\u001b[37m\u001b[0m \u001b[1m0s\u001b[0m 62ms/step - accuracy: 0.8333 - loss: 0.9721 - val_accuracy: 0.6471 - val_loss: 1.1463\n",
      "Epoch 16/50\n",
      "\u001b[1m1/1\u001b[0m \u001b[32m━━━━━━━━━━━━━━━━━━━━\u001b[0m\u001b[37m\u001b[0m \u001b[1m0s\u001b[0m 42ms/step - accuracy: 0.8409 - loss: 0.9045 - val_accuracy: 0.6471 - val_loss: 1.0973\n",
      "Epoch 17/50\n",
      "\u001b[1m1/1\u001b[0m \u001b[32m━━━━━━━━━━━━━━━━━━━━\u001b[0m\u001b[37m\u001b[0m \u001b[1m0s\u001b[0m 36ms/step - accuracy: 0.8864 - loss: 0.8118 - val_accuracy: 0.7059 - val_loss: 1.0487\n",
      "Epoch 18/50\n",
      "\u001b[1m1/1\u001b[0m \u001b[32m━━━━━━━━━━━━━━━━━━━━\u001b[0m\u001b[37m\u001b[0m \u001b[1m0s\u001b[0m 37ms/step - accuracy: 0.8939 - loss: 0.7885 - val_accuracy: 0.7059 - val_loss: 1.0009\n",
      "Epoch 19/50\n",
      "\u001b[1m1/1\u001b[0m \u001b[32m━━━━━━━━━━━━━━━━━━━━\u001b[0m\u001b[37m\u001b[0m \u001b[1m0s\u001b[0m 107ms/step - accuracy: 0.9167 - loss: 0.7237 - val_accuracy: 0.7059 - val_loss: 0.9543\n",
      "Epoch 20/50\n",
      "\u001b[1m1/1\u001b[0m \u001b[32m━━━━━━━━━━━━━━━━━━━━\u001b[0m\u001b[37m\u001b[0m \u001b[1m0s\u001b[0m 41ms/step - accuracy: 0.9091 - loss: 0.6583 - val_accuracy: 0.7059 - val_loss: 0.9089\n",
      "Epoch 21/50\n",
      "\u001b[1m1/1\u001b[0m \u001b[32m━━━━━━━━━━━━━━━━━━━━\u001b[0m\u001b[37m\u001b[0m \u001b[1m0s\u001b[0m 35ms/step - accuracy: 0.9242 - loss: 0.6013 - val_accuracy: 0.7059 - val_loss: 0.8651\n",
      "Epoch 22/50\n",
      "\u001b[1m1/1\u001b[0m \u001b[32m━━━━━━━━━━━━━━━━━━━━\u001b[0m\u001b[37m\u001b[0m \u001b[1m0s\u001b[0m 43ms/step - accuracy: 0.9091 - loss: 0.5496 - val_accuracy: 0.7059 - val_loss: 0.8226\n",
      "Epoch 23/50\n",
      "\u001b[1m1/1\u001b[0m \u001b[32m━━━━━━━━━━━━━━━━━━━━\u001b[0m\u001b[37m\u001b[0m \u001b[1m0s\u001b[0m 39ms/step - accuracy: 0.9015 - loss: 0.5173 - val_accuracy: 0.7353 - val_loss: 0.7815\n",
      "Epoch 24/50\n",
      "\u001b[1m1/1\u001b[0m \u001b[32m━━━━━━━━━━━━━━━━━━━━\u001b[0m\u001b[37m\u001b[0m \u001b[1m0s\u001b[0m 51ms/step - accuracy: 0.9318 - loss: 0.4702 - val_accuracy: 0.7353 - val_loss: 0.7410\n",
      "Epoch 25/50\n",
      "\u001b[1m1/1\u001b[0m \u001b[32m━━━━━━━━━━━━━━━━━━━━\u001b[0m\u001b[37m\u001b[0m \u001b[1m0s\u001b[0m 49ms/step - accuracy: 0.9167 - loss: 0.4362 - val_accuracy: 0.7353 - val_loss: 0.7017\n",
      "Epoch 26/50\n",
      "\u001b[1m1/1\u001b[0m \u001b[32m━━━━━━━━━━━━━━━━━━━━\u001b[0m\u001b[37m\u001b[0m \u001b[1m0s\u001b[0m 47ms/step - accuracy: 0.9394 - loss: 0.3963 - val_accuracy: 0.7647 - val_loss: 0.6636\n",
      "Epoch 27/50\n",
      "\u001b[1m1/1\u001b[0m \u001b[32m━━━━━━━━━━━━━━━━━━━━\u001b[0m\u001b[37m\u001b[0m \u001b[1m0s\u001b[0m 35ms/step - accuracy: 0.9318 - loss: 0.3729 - val_accuracy: 0.7647 - val_loss: 0.6270\n",
      "Epoch 28/50\n",
      "\u001b[1m1/1\u001b[0m \u001b[32m━━━━━━━━━━━━━━━━━━━━\u001b[0m\u001b[37m\u001b[0m \u001b[1m0s\u001b[0m 39ms/step - accuracy: 0.9394 - loss: 0.3356 - val_accuracy: 0.7647 - val_loss: 0.5913\n",
      "Epoch 29/50\n",
      "\u001b[1m1/1\u001b[0m \u001b[32m━━━━━━━━━━━━━━━━━━━━\u001b[0m\u001b[37m\u001b[0m \u001b[1m0s\u001b[0m 36ms/step - accuracy: 0.9621 - loss: 0.2903 - val_accuracy: 0.7941 - val_loss: 0.5562\n",
      "Epoch 30/50\n",
      "\u001b[1m1/1\u001b[0m \u001b[32m━━━━━━━━━━━━━━━━━━━━\u001b[0m\u001b[37m\u001b[0m \u001b[1m0s\u001b[0m 54ms/step - accuracy: 0.9470 - loss: 0.2872 - val_accuracy: 0.7941 - val_loss: 0.5216\n",
      "Epoch 31/50\n",
      "\u001b[1m1/1\u001b[0m \u001b[32m━━━━━━━━━━━━━━━━━━━━\u001b[0m\u001b[37m\u001b[0m \u001b[1m0s\u001b[0m 27ms/step - accuracy: 0.9621 - loss: 0.2557 - val_accuracy: 0.8235 - val_loss: 0.4878\n",
      "Epoch 32/50\n",
      "\u001b[1m1/1\u001b[0m \u001b[32m━━━━━━━━━━━━━━━━━━━━\u001b[0m\u001b[37m\u001b[0m \u001b[1m0s\u001b[0m 44ms/step - accuracy: 0.9773 - loss: 0.2278 - val_accuracy: 0.8529 - val_loss: 0.4554\n",
      "Epoch 33/50\n",
      "\u001b[1m1/1\u001b[0m \u001b[32m━━━━━━━━━━━━━━━━━━━━\u001b[0m\u001b[37m\u001b[0m \u001b[1m0s\u001b[0m 45ms/step - accuracy: 0.9697 - loss: 0.2231 - val_accuracy: 0.9118 - val_loss: 0.4243\n",
      "Epoch 34/50\n",
      "\u001b[1m1/1\u001b[0m \u001b[32m━━━━━━━━━━━━━━━━━━━━\u001b[0m\u001b[37m\u001b[0m \u001b[1m0s\u001b[0m 50ms/step - accuracy: 0.9773 - loss: 0.1773 - val_accuracy: 0.9412 - val_loss: 0.3946\n",
      "Epoch 35/50\n",
      "\u001b[1m1/1\u001b[0m \u001b[32m━━━━━━━━━━━━━━━━━━━━\u001b[0m\u001b[37m\u001b[0m \u001b[1m0s\u001b[0m 49ms/step - accuracy: 0.9697 - loss: 0.1874 - val_accuracy: 0.9412 - val_loss: 0.3670\n",
      "Epoch 36/50\n",
      "\u001b[1m1/1\u001b[0m \u001b[32m━━━━━━━━━━━━━━━━━━━━\u001b[0m\u001b[37m\u001b[0m \u001b[1m0s\u001b[0m 36ms/step - accuracy: 0.9773 - loss: 0.1583 - val_accuracy: 0.9412 - val_loss: 0.3410\n",
      "Epoch 37/50\n",
      "\u001b[1m1/1\u001b[0m \u001b[32m━━━━━━━━━━━━━━━━━━━━\u001b[0m\u001b[37m\u001b[0m \u001b[1m0s\u001b[0m 45ms/step - accuracy: 0.9848 - loss: 0.1564 - val_accuracy: 0.9706 - val_loss: 0.3168\n",
      "Epoch 38/50\n",
      "\u001b[1m1/1\u001b[0m \u001b[32m━━━━━━━━━━━━━━━━━━━━\u001b[0m\u001b[37m\u001b[0m \u001b[1m0s\u001b[0m 46ms/step - accuracy: 0.9848 - loss: 0.1327 - val_accuracy: 0.9706 - val_loss: 0.2943\n",
      "Epoch 39/50\n",
      "\u001b[1m1/1\u001b[0m \u001b[32m━━━━━━━━━━━━━━━━━━━━\u001b[0m\u001b[37m\u001b[0m \u001b[1m0s\u001b[0m 43ms/step - accuracy: 0.9848 - loss: 0.1210 - val_accuracy: 0.9706 - val_loss: 0.2735\n",
      "Epoch 40/50\n",
      "\u001b[1m1/1\u001b[0m \u001b[32m━━━━━━━━━━━━━━━━━━━━\u001b[0m\u001b[37m\u001b[0m \u001b[1m0s\u001b[0m 37ms/step - accuracy: 0.9848 - loss: 0.1091 - val_accuracy: 0.9706 - val_loss: 0.2550\n",
      "Epoch 41/50\n",
      "\u001b[1m1/1\u001b[0m \u001b[32m━━━━━━━━━━━━━━━━━━━━\u001b[0m\u001b[37m\u001b[0m \u001b[1m0s\u001b[0m 43ms/step - accuracy: 0.9848 - loss: 0.1081 - val_accuracy: 0.9706 - val_loss: 0.2382\n",
      "Epoch 42/50\n",
      "\u001b[1m1/1\u001b[0m \u001b[32m━━━━━━━━━━━━━━━━━━━━\u001b[0m\u001b[37m\u001b[0m \u001b[1m0s\u001b[0m 96ms/step - accuracy: 0.9924 - loss: 0.0945 - val_accuracy: 0.9706 - val_loss: 0.2228\n",
      "Epoch 43/50\n",
      "\u001b[1m1/1\u001b[0m \u001b[32m━━━━━━━━━━━━━━━━━━━━\u001b[0m\u001b[37m\u001b[0m \u001b[1m0s\u001b[0m 45ms/step - accuracy: 0.9924 - loss: 0.0898 - val_accuracy: 0.9706 - val_loss: 0.2089\n",
      "Epoch 44/50\n",
      "\u001b[1m1/1\u001b[0m \u001b[32m━━━━━━━━━━━━━━━━━━━━\u001b[0m\u001b[37m\u001b[0m \u001b[1m0s\u001b[0m 40ms/step - accuracy: 0.9924 - loss: 0.0789 - val_accuracy: 0.9706 - val_loss: 0.1962\n",
      "Epoch 45/50\n",
      "\u001b[1m1/1\u001b[0m \u001b[32m━━━━━━━━━━━━━━━━━━━━\u001b[0m\u001b[37m\u001b[0m \u001b[1m0s\u001b[0m 38ms/step - accuracy: 0.9924 - loss: 0.0797 - val_accuracy: 0.9706 - val_loss: 0.1846\n",
      "Epoch 46/50\n",
      "\u001b[1m1/1\u001b[0m \u001b[32m━━━━━━━━━━━━━━━━━━━━\u001b[0m\u001b[37m\u001b[0m \u001b[1m0s\u001b[0m 38ms/step - accuracy: 0.9924 - loss: 0.0674 - val_accuracy: 0.9706 - val_loss: 0.1744\n",
      "Epoch 47/50\n",
      "\u001b[1m1/1\u001b[0m \u001b[32m━━━━━━━━━━━━━━━━━━━━\u001b[0m\u001b[37m\u001b[0m \u001b[1m0s\u001b[0m 40ms/step - accuracy: 0.9924 - loss: 0.0645 - val_accuracy: 0.9706 - val_loss: 0.1653\n",
      "Epoch 48/50\n",
      "\u001b[1m1/1\u001b[0m \u001b[32m━━━━━━━━━━━━━━━━━━━━\u001b[0m\u001b[37m\u001b[0m \u001b[1m0s\u001b[0m 49ms/step - accuracy: 1.0000 - loss: 0.0627 - val_accuracy: 0.9706 - val_loss: 0.1571\n",
      "Epoch 49/50\n",
      "\u001b[1m1/1\u001b[0m \u001b[32m━━━━━━━━━━━━━━━━━━━━\u001b[0m\u001b[37m\u001b[0m \u001b[1m0s\u001b[0m 32ms/step - accuracy: 0.9924 - loss: 0.0506 - val_accuracy: 0.9706 - val_loss: 0.1498\n",
      "Epoch 50/50\n",
      "\u001b[1m1/1\u001b[0m \u001b[32m━━━━━━━━━━━━━━━━━━━━\u001b[0m\u001b[37m\u001b[0m \u001b[1m0s\u001b[0m 42ms/step - accuracy: 0.9924 - loss: 0.0584 - val_accuracy: 1.0000 - val_loss: 0.1437\n",
      "\u001b[1m2/2\u001b[0m \u001b[32m━━━━━━━━━━━━━━━━━━━━\u001b[0m\u001b[37m\u001b[0m \u001b[1m0s\u001b[0m 36ms/step\n",
      "              precision    recall  f1-score   support\n",
      "\n",
      "           0       1.00      1.00      1.00         7\n",
      "           1       1.00      1.00      1.00         8\n",
      "           2       1.00      1.00      1.00         9\n",
      "           3       1.00      1.00      1.00         6\n",
      "           4       1.00      1.00      1.00         4\n",
      "           5       1.00      1.00      1.00         8\n",
      "\n",
      "    accuracy                           1.00        42\n",
      "   macro avg       1.00      1.00      1.00        42\n",
      "weighted avg       1.00      1.00      1.00        42\n",
      "\n"
     ]
    }
   ],
   "source": [
    "# Bangun NN sederhana\n",
    "model = keras.Sequential([\n",
    "    layers.Input(shape=(X_train.shape[1],)),\n",
    "    layers.Dense(256, activation='relu'),\n",
    "    layers.Dropout(0.3),\n",
    "    layers.Dense(128, activation='relu'),\n",
    "    layers.Dropout(0.2),\n",
    "    layers.Dense(num_classes, activation='softmax')\n",
    "])\n",
    "model.compile(optimizer='adam', loss='sparse_categorical_crossentropy', metrics=['accuracy'])\n",
    "\n",
    "es = keras.callbacks.EarlyStopping(patience=5, restore_best_weights=True, monitor='val_loss')\n",
    "\n",
    "history = model.fit(\n",
    "    X_train, y_train,\n",
    "    validation_split=0.2,\n",
    "    epochs=50,\n",
    "    batch_size=256,\n",
    "    callbacks=[es],\n",
    "    verbose=1\n",
    ")\n",
    "\n",
    "# Evaluasi\n",
    "y_pred = np.argmax(model.predict(X_test), axis=1)\n",
    "print(classification_report(y_test, y_pred))"
   ]
  },
  {
   "cell_type": "markdown",
   "id": "fbdb9d0a",
   "metadata": {},
   "source": [
    "#### Penyimpanan Kebutuhan untuk Deployment (Scaler, KMeans, Preprocess untuk Column Transformer, Model Neural Network, BallTree Haversine untuk melihat lokasi terdekat restoran) "
   ]
  },
  {
   "cell_type": "code",
   "execution_count": 34,
   "id": "59d269e2",
   "metadata": {},
   "outputs": [],
   "source": [
    "# Simpan proses pipeline clustering\n",
    "dump(scaler_geo, \"scaler_geo.joblib\")\n",
    "dump(kmeans, \"kmeans.joblib\")\n",
    "\n",
    "# Simpan column transformer klasifikasi\n",
    "dump(preprocess, \"preprocess.joblib\")\n",
    "model.save(\"nn_cluster_classifier.keras\")\n",
    "\n",
    "# Buat struktur untuk nearest restaurant:\n",
    "# BallTree dengan metrik haversine (pakai radian)\n",
    "def deg2rad(df):\n",
    "    return np.deg2rad(df[['lat','long']].values)\n",
    "\n",
    "coords_rad = deg2rad(df)\n",
    "tree = BallTree(coords_rad, metric='haversine')\n",
    "# Simpan data pendukung untuk lookup hasil neighbor\n",
    "dump(tree, \"balltree_haversine.joblib\")\n",
    "df[['id_restaurant','nama_tempat','alamat','lat','long','cluster']].to_csv(\"restaurants_ref.csv\", index=False)\n"
   ]
  },
  {
   "cell_type": "code",
   "execution_count": 35,
   "id": "821cf6db",
   "metadata": {},
   "outputs": [],
   "source": [
    "# -------- fungsi plot kurva (punyamu, tetap) --------\n",
    "def plot_training_curves(history, out_acc=\"artifacts/acc_curve.png\", out_loss=\"artifacts/loss_curve.png\"):\n",
    "    os.makedirs(os.path.dirname(out_acc), exist_ok=True)\n",
    "    H = history.history\n",
    "    acc_key = \"accuracy\" if \"accuracy\" in H else \"acc\"\n",
    "    val_acc_key = \"val_accuracy\" if \"val_accuracy\" in H else \"val_acc\"\n",
    "    loss_key, val_loss_key = \"loss\", \"val_loss\"\n",
    "    epochs = range(1, len(H[loss_key]) + 1)\n",
    "\n",
    "    # Accuracy\n",
    "    plt.figure()\n",
    "    plt.plot(epochs, H[acc_key], label=\"Train Acc\")\n",
    "    plt.plot(epochs, H[val_acc_key], label=\"Val Acc\")\n",
    "    plt.xlabel(\"Epoch\"); plt.ylabel(\"Accuracy\"); plt.title(\"Training vs Validation Accuracy\"); plt.legend()\n",
    "    plt.tight_layout(); plt.savefig(out_acc, dpi=160); plt.close()\n",
    "\n",
    "    # Loss\n",
    "    plt.figure()\n",
    "    plt.plot(epochs, H[loss_key], label=\"Train Loss\")\n",
    "    plt.plot(epochs, H[val_loss_key], label=\"Val Loss\")\n",
    "    plt.xlabel(\"Epoch\"); plt.ylabel(\"Loss\"); plt.title(\"Training vs Validation Loss\"); plt.legend()\n",
    "    plt.tight_layout(); plt.savefig(out_loss, dpi=160); plt.close()\n",
    "\n",
    "\n",
    "# -------- fungsi plot confusion matrix + report --------\n",
    "def plot_confusion_and_report(model, X_test, y_test,\n",
    "                              class_names=None,\n",
    "                              out_png=\"artifacts/confusion_raw.png\",\n",
    "                              out_norm_png=\"artifacts/confusion_norm.png\",\n",
    "                              out_report=\"artifacts/classification_report.txt\"):\n",
    "    os.makedirs(os.path.dirname(out_png), exist_ok=True)\n",
    "\n",
    "    # y_true: tangani one-hot vs integer\n",
    "    y_true = y_test\n",
    "    if hasattr(y_true, \"values\"):  # pandas Series/DF\n",
    "        y_true = y_true.values\n",
    "    y_true = np.asarray(y_true)\n",
    "    if y_true.ndim > 1:\n",
    "        y_true = np.argmax(y_true, axis=1)\n",
    "\n",
    "    # y_pred: dukung Keras (prob/logit) & sklearn (label)\n",
    "    y_pred = model.predict(X_test)\n",
    "    if hasattr(y_pred, \"values\"):\n",
    "        y_pred = y_pred.values\n",
    "    y_pred = np.asarray(y_pred)\n",
    "\n",
    "    if y_pred.ndim > 1:\n",
    "        # multi-class prob/logit -> ambil argmax\n",
    "        y_pred = np.argmax(y_pred, axis=1)\n",
    "    else:\n",
    "        # binary shape (n,) sudah ok; shape (n,1) -> ravel\n",
    "        y_pred = y_pred.ravel()\n",
    "\n",
    "    # tentukan jumlah kelas & label tampilan\n",
    "    n_classes = int(max(np.max(y_true), np.max(y_pred))) + 1\n",
    "    if class_names is None:\n",
    "        class_names = [f\"c{i}\" for i in range(n_classes)]\n",
    "\n",
    "    # Confusion matrix (raw counts)\n",
    "    cm = confusion_matrix(y_true, y_pred, labels=list(range(n_classes)))\n",
    "    disp = ConfusionMatrixDisplay(cm, display_labels=class_names)\n",
    "    plt.figure(figsize=(6,5))\n",
    "    disp.plot(values_format='d', cmap='Blues', colorbar=False)\n",
    "    plt.title(\"Confusion Matrix (Raw)\")\n",
    "    plt.tight_layout(); plt.savefig(out_png, dpi=160); plt.close()\n",
    "\n",
    "    # Confusion matrix (normalized per true class)\n",
    "    cm_norm = confusion_matrix(y_true, y_pred, labels=list(range(n_classes)), normalize='true')\n",
    "    disp2 = ConfusionMatrixDisplay(cm_norm, display_labels=class_names)\n",
    "    plt.figure(figsize=(6,5))\n",
    "    disp2.plot(values_format='.2f', cmap='Blues', colorbar=True)\n",
    "    plt.title(\"Confusion Matrix (Normalized by True Labels)\")\n",
    "    plt.tight_layout(); plt.savefig(out_norm_png, dpi=160); plt.close()\n",
    "\n",
    "    # Classification report -> txt\n",
    "    report_txt = classification_report(y_true, y_pred, target_names=class_names, zero_division=0)\n",
    "    with open(out_report, \"w\", encoding=\"utf-8\") as f:\n",
    "        f.write(report_txt)\n",
    "\n",
    "    print(f\"Saved:\\n- {out_png}\\n- {out_norm_png}\\n- {out_report}\")\n"
   ]
  },
  {
   "cell_type": "code",
   "execution_count": 36,
   "id": "a1c0d02d",
   "metadata": {},
   "outputs": [
    {
     "name": "stdout",
     "output_type": "stream",
     "text": [
      "Saved curves to artifacts/acc_curve.png and artifacts/loss_curve.png\n",
      "\u001b[1m2/2\u001b[0m \u001b[32m━━━━━━━━━━━━━━━━━━━━\u001b[0m\u001b[37m\u001b[0m \u001b[1m0s\u001b[0m 11ms/step\n",
      "Saved:\n",
      "- artifacts/confusion_raw.png\n",
      "- artifacts/confusion_norm.png\n",
      "- artifacts/classification_report.txt\n"
     ]
    },
    {
     "data": {
      "text/plain": [
       "<Figure size 600x500 with 0 Axes>"
      ]
     },
     "metadata": {},
     "output_type": "display_data"
    },
    {
     "data": {
      "text/plain": [
       "<Figure size 600x500 with 0 Axes>"
      ]
     },
     "metadata": {},
     "output_type": "display_data"
    }
   ],
   "source": [
    "plot_training_curves(history)\n",
    "print(\"Saved curves to artifacts/acc_curve.png and artifacts/loss_curve.png\")\n",
    "\n",
    "# Untuk Keras NN\n",
    "plot_confusion_and_report(model, X_test, y_test,\n",
    "                          class_names=[f\"c{i}\" for i in range(num_classes)],\n",
    "                          out_png=\"artifacts/confusion_raw.png\",\n",
    "                          out_norm_png=\"artifacts/confusion_norm.png\",\n",
    "                          out_report=\"artifacts/classification_report.txt\")\n"
   ]
  },
  {
   "cell_type": "markdown",
   "id": "73c7cf98",
   "metadata": {},
   "source": [
    "#### Tambahan doang untuk bikin Conf Matrix semuanya (RF, NB, KNN)"
   ]
  },
  {
   "cell_type": "code",
   "execution_count": 37,
   "id": "a53307cd",
   "metadata": {},
   "outputs": [],
   "source": [
    "SEED = 42\n",
    "ART_DIR = \"HasilMLClassic\"\n",
    "os.makedirs(ART_DIR, exist_ok=True)"
   ]
  },
  {
   "cell_type": "code",
   "execution_count": 41,
   "id": "0c1e0354",
   "metadata": {},
   "outputs": [
    {
     "name": "stdout",
     "output_type": "stream",
     "text": [
      "\n",
      "== gaussian_nb ==\n",
      "Test Accuracy  : 0.9286\n",
      "Test F1-macro  : 0.9219\n",
      "Saved:\n",
      "- HasilMLClassic\\gaussian_nb_confusion_raw.png\n",
      "- HasilMLClassic\\gaussian_nb_confusion_norm.png\n",
      "- HasilMLClassic\\gaussian_nb_classification_report.txt\n",
      "\n",
      "== knn ==\n",
      "Test Accuracy  : 0.9762\n",
      "Test F1-macro  : 0.9761\n",
      "Saved:\n",
      "- HasilMLClassic\\knn_confusion_raw.png\n",
      "- HasilMLClassic\\knn_confusion_norm.png\n",
      "- HasilMLClassic\\knn_classification_report.txt\n",
      "\n",
      "== random_forest ==\n",
      "Test Accuracy  : 1.0000\n",
      "Test F1-macro  : 1.0000\n",
      "Saved:\n",
      "- HasilMLClassic\\random_forest_confusion_raw.png\n",
      "- HasilMLClassic\\random_forest_confusion_norm.png\n",
      "- HasilMLClassic\\random_forest_classification_report.txt\n",
      "\n",
      "Ringkasan → HasilMLClassic\\classic_ml_eval_summary.csv\n"
     ]
    },
    {
     "data": {
      "text/plain": [
       "<Figure size 600x500 with 0 Axes>"
      ]
     },
     "metadata": {},
     "output_type": "display_data"
    },
    {
     "data": {
      "text/plain": [
       "<Figure size 600x500 with 0 Axes>"
      ]
     },
     "metadata": {},
     "output_type": "display_data"
    },
    {
     "data": {
      "text/plain": [
       "<Figure size 600x500 with 0 Axes>"
      ]
     },
     "metadata": {},
     "output_type": "display_data"
    },
    {
     "data": {
      "text/plain": [
       "<Figure size 600x500 with 0 Axes>"
      ]
     },
     "metadata": {},
     "output_type": "display_data"
    },
    {
     "data": {
      "text/plain": [
       "<Figure size 600x500 with 0 Axes>"
      ]
     },
     "metadata": {},
     "output_type": "display_data"
    },
    {
     "data": {
      "text/plain": [
       "<Figure size 600x500 with 0 Axes>"
      ]
     },
     "metadata": {},
     "output_type": "display_data"
    }
   ],
   "source": [
    "# siapkan fitur mentah (pipeline klasik sudah punya preprocessing sendiri)\n",
    "X = klasik_ml_df[[\"long\",\"lat\",\"id_provinsi\",\"id_kabupaten\",\"id_makanan\",\"id_reting\"]].copy()\n",
    "# kategorikal jadi string agar OneHot di pipeline aman\n",
    "for c in [\"id_provinsi\",\"id_kabupaten\",\"id_makanan\",\"id_reting\"]:\n",
    "    X[c] = X[c].astype(str).fillna(\"UNK\")\n",
    "\n",
    "y = klasik_ml_df[\"cluster\"].astype(int).values\n",
    "\n",
    "# split (stratify)\n",
    "X_train_raw, X_test_raw, y_train, y_test = train_test_split(\n",
    "    X, y, test_size=0.2, random_state=SEED, stratify=y\n",
    ")\n",
    "\n",
    "# plot confusion & report\n",
    "def plot_confusion_and_report(model, X_te, y_te, class_names=None, prefix=\"model\"):\n",
    "    y_true = np.asarray(y_te)\n",
    "    # pred: dukung pipeline sklearn (output label) dan yang memulangkan prob\n",
    "    y_pred = model.predict(X_te)\n",
    "    y_pred = np.asarray(y_pred)\n",
    "    if y_pred.ndim > 1:\n",
    "        y_pred = np.argmax(y_pred, axis=1)\n",
    "\n",
    "    n_classes = int(max(np.max(y_true), np.max(y_pred))) + 1\n",
    "    if class_names is None:\n",
    "        class_names = [f\"c{i}\" for i in range(n_classes)]\n",
    "\n",
    "    # Confusion raw\n",
    "    cm = confusion_matrix(y_true, y_pred, labels=list(range(n_classes)))\n",
    "    disp = ConfusionMatrixDisplay(cm, display_labels=class_names)\n",
    "    plt.figure(figsize=(6,5))\n",
    "    disp.plot(values_format='d', cmap='Blues', colorbar=False)\n",
    "    plt.title(f\"Confusion Matrix (Raw) - {prefix}\")\n",
    "    plt.tight_layout()\n",
    "    out_raw = os.path.join(ART_DIR, f\"{prefix}_confusion_raw.png\")\n",
    "    plt.savefig(out_raw, dpi=160); plt.close()\n",
    "\n",
    "    # Confusion normalized (per true class)\n",
    "    cmn = confusion_matrix(y_true, y_pred, labels=list(range(n_classes)), normalize=\"true\")\n",
    "    disp2 = ConfusionMatrixDisplay(cmn, display_labels=class_names)\n",
    "    plt.figure(figsize=(6,5))\n",
    "    disp2.plot(values_format='.2f', cmap='Blues', colorbar=True)\n",
    "    plt.title(f\"Confusion Matrix (Normalized) - {prefix}\")\n",
    "    plt.tight_layout()\n",
    "    out_norm = os.path.join(ART_DIR, f\"{prefix}_confusion_norm.png\")\n",
    "    plt.savefig(out_norm, dpi=160); plt.close()\n",
    "\n",
    "    # Classification report\n",
    "    report_txt = classification_report(y_true, y_pred, target_names=class_names, zero_division=0)\n",
    "    out_rep = os.path.join(ART_DIR, f\"{prefix}_classification_report.txt\")\n",
    "    with open(out_rep, \"w\", encoding=\"utf-8\") as f:\n",
    "        f.write(report_txt)\n",
    "\n",
    "    # Ringkas metrik\n",
    "    acc = accuracy_score(y_true, y_pred)\n",
    "    f1m = f1_score(y_true, y_pred, average=\"macro\")\n",
    "\n",
    "    print(f\"\\n== {prefix} ==\")\n",
    "    print(f\"Test Accuracy  : {acc:.4f}\")\n",
    "    print(f\"Test F1-macro  : {f1m:.4f}\")\n",
    "    print(f\"Saved:\\n- {out_raw}\\n- {out_norm}\\n- {out_rep}\")\n",
    "\n",
    "    # Kembalikan metrik kalau mau disimpan agregat\n",
    "    return {\"model\": prefix, \"test_acc\": acc, \"test_f1_macro\": f1m}\n",
    "\n",
    "# Load semua model klasik & evaluasi \n",
    "paths = sorted(glob.glob(os.path.join(ART_DIR, \"model_*.joblib\")))\n",
    "if not paths:\n",
    "    raise FileNotFoundError(\"Tidak ada HasilMLClassic/model_*.joblib. Jalankan training klasik dulu.\")\n",
    "\n",
    "rows = []\n",
    "for p in paths:\n",
    "    clf = load(p)  # pipeline lengkap (preprocess + clf)\n",
    "    name = os.path.basename(p).replace(\"model_\",\"\").replace(\".joblib\",\"\")\n",
    "    res = plot_confusion_and_report(clf, X_test_raw, y_test, class_names=None, prefix=name)\n",
    "    rows.append(res)\n",
    "\n",
    "# simpan ringkasan\n",
    "pd.DataFrame(rows).sort_values(\"test_f1_macro\", ascending=False).to_csv(\n",
    "    os.path.join(ART_DIR, \"classic_ml_eval_summary.csv\"), index=False\n",
    ")\n",
    "print(f\"\\nRingkasan → {os.path.join(ART_DIR, 'classic_ml_eval_summary.csv')}\")"
   ]
  }
 ],
 "metadata": {
  "kernelspec": {
   "display_name": "base",
   "language": "python",
   "name": "python3"
  },
  "language_info": {
   "codemirror_mode": {
    "name": "ipython",
    "version": 3
   },
   "file_extension": ".py",
   "mimetype": "text/x-python",
   "name": "python",
   "nbconvert_exporter": "python",
   "pygments_lexer": "ipython3",
   "version": "3.12.7"
  }
 },
 "nbformat": 4,
 "nbformat_minor": 5
}
